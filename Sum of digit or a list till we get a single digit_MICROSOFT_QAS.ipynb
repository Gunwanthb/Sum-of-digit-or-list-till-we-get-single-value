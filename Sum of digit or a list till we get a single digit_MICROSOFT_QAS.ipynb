{
 "cells": [
  {
   "cell_type": "code",
   "execution_count": null,
   "metadata": {},
   "outputs": [],
   "source": [
    "lst = []\n",
    "num = int(input('How many numbers: '))\n",
    "for n in range(num):\n",
    "    number = int(input('Enter number '))\n",
    "    lst.append(number)\n",
    "print(\"elements of the list are :\",lst)\n",
    "def sumoflist(list, size): \n",
    "    if(size == 0):\n",
    "        return 0\n",
    "    elif(size == 1):\n",
    "        return lst[0]\n",
    "    else:\n",
    "        return list[size - 1] + sumoflist(list, size - 1) \n",
    "total = sumoflist(lst, len(lst)) \n",
    "print(\"Sum of all elements in given list : \", total)\n",
    "s = 0\n",
    "while(total > 0):\n",
    "    while(total!=0):\n",
    "        rem = total % 10\n",
    "        s = s + rem\n",
    "        total = total//10\n",
    "    if(s > 9):\n",
    "        total = s\n",
    "        s = 0\n",
    "print(\"Final sum is : \",s)"
   ]
  }
 ],
 "metadata": {
  "kernelspec": {
   "display_name": "Python 3",
   "language": "python",
   "name": "python3"
  },
  "language_info": {
   "codemirror_mode": {
    "name": "ipython",
    "version": 3
   },
   "file_extension": ".py",
   "mimetype": "text/x-python",
   "name": "python",
   "nbconvert_exporter": "python",
   "pygments_lexer": "ipython3",
   "version": "3.7.3"
  }
 },
 "nbformat": 4,
 "nbformat_minor": 2
}
